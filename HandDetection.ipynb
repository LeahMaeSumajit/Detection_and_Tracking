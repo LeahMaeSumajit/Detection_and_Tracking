{
 "cells": [
  {
   "cell_type": "code",
   "execution_count": 10,
   "id": "c9323155",
   "metadata": {},
   "outputs": [],
   "source": [
    "import cv2\n",
    "import mediapipe as mp\n",
    "import time"
   ]
  },
  {
   "cell_type": "code",
   "execution_count": 11,
   "id": "1e546f0a",
   "metadata": {},
   "outputs": [],
   "source": [
    "#Load video source\n",
    "cap = cv2.VideoCapture(0) # 0 is the index of the default camera\n",
    "\n",
    "#detect and mark hand\n",
    "mpHands = mp.solutions.hands\n",
    "hands = mpHands.Hands()\n",
    "mpDraw = mp.solutions.drawing_utils\n",
    "\n",
    "#Time for fps\n",
    "prevTime = 0\n",
    "currTime = 0\n",
    "\n",
    "#Make a loop\n",
    "while True:\n",
    "    ret, frame = cap.read() # Read a frame from the video stream\n",
    "    imgRGB = cv2.cvtColor(frame, cv2.COLOR_BGR2RGB)\n",
    "    results = hands.process(imgRGB)\n",
    "    #print(results.multi_hand_landmarks)\n",
    "    \n",
    "    #detect multiple hands and connect them\n",
    "    if results.multi_hand_landmarks:\n",
    "        for handLms in results.multi_hand_landmarks:\n",
    "            #identify landmarks\n",
    "            for id, lm in enumerate(handLms.landmark):\n",
    "                \n",
    "                #check height, width, & channels and find position\n",
    "                h, w, c = frame.shape\n",
    "                #multiply landmark by x-value * by width and landmark by y-value * by height\n",
    "                cx, cy = int(lm.x*w), int(lm.y*h)\n",
    "                #use id to know which is for which\n",
    "                print(id, cx, cy)\n",
    "                #example: for landmark 0, draw a filled circle \n",
    "                if id == 0:\n",
    "                    cv2.circle(frame, (cx, cy), 18, (255, 0, 255), cv2.FILLED)\n",
    "                \n",
    "                \n",
    "            mpDraw.draw_landmarks(frame, handLms, mpHands.HAND_CONNECTIONS)\n",
    "    \n",
    "    #calculate fps \n",
    "    currTime = time.time()\n",
    "    fps = 1/(currTime-prevTime)\n",
    "    prevTime = currTime\n",
    "    \n",
    "    #display on screen\n",
    "    cv2.putText(frame,str(int(fps)), (10, 70), cv2.FONT_HERSHEY_PLAIN, 3,\n",
    "               (255, 0, 255), 3)\n",
    "    \n",
    "    cv2.imshow('Video Stream', frame) # Show the frame in a window named 'Video Stream'\n",
    "    if cv2.waitKey(1) & 0xFF == ord('q'): # Exit if the 'q' key is pressed\n",
    "        break\n",
    "\n",
    "# Release the video capture object\n",
    "cap.release() \n",
    "cv2.destroyAllWindows() # Close all windows\n"
   ]
  },
  {
   "cell_type": "code",
   "execution_count": null,
   "id": "51439eb9",
   "metadata": {},
   "outputs": [],
   "source": []
  }
 ],
 "metadata": {
  "kernelspec": {
   "display_name": "Python 3 (ipykernel)",
   "language": "python",
   "name": "python3"
  },
  "language_info": {
   "codemirror_mode": {
    "name": "ipython",
    "version": 3
   },
   "file_extension": ".py",
   "mimetype": "text/x-python",
   "name": "python",
   "nbconvert_exporter": "python",
   "pygments_lexer": "ipython3",
   "version": "3.9.13"
  }
 },
 "nbformat": 4,
 "nbformat_minor": 5
}
